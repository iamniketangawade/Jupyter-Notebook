{
 "cells": [
  {
   "cell_type": "markdown",
   "id": "7c472dd2-1444-478e-b8c3-917695486bcc",
   "metadata": {},
   "source": [
    "# Core Java"
   ]
  },
  {
   "cell_type": "code",
   "execution_count": 2,
   "id": "3a9e02f2-ee87-4183-99c0-29acff399e6d",
   "metadata": {},
   "outputs": [
    {
     "name": "stdout",
     "output_type": "stream",
     "text": [
      "Hello\n"
     ]
    }
   ],
   "source": [
    "System.out.println(\"Hello\");"
   ]
  },
  {
   "cell_type": "raw",
   "id": "56e4654e-761a-4edc-a637-a2a4d8d8a3cd",
   "metadata": {},
   "source": []
  }
 ],
 "metadata": {
  "kernelspec": {
   "display_name": "Java",
   "language": "java",
   "name": "java"
  },
  "language_info": {
   "codemirror_mode": "java",
   "file_extension": ".jshell",
   "mimetype": "text/x-java-source",
   "name": "Java",
   "pygments_lexer": "java",
   "version": "24.0.2+12-54"
  }
 },
 "nbformat": 4,
 "nbformat_minor": 5
}
