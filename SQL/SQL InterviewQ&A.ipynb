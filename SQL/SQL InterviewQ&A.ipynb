{
 "cells": [
  {
   "cell_type": "markdown",
   "id": "f7acfa60-0e14-46f3-b542-7a0726867527",
   "metadata": {},
   "source": [
    "## SQL Interview question"
   ]
  },
  {
   "cell_type": "markdown",
   "id": "32cbacf1-3041-4e5c-b895-8124f1b1555a",
   "metadata": {},
   "source": [
    "**1.What is DBMS?**\n",
    "\n",
    "- A DBMS is s/w that helps to store,organize and mange data.\n",
    "- Data store-> Files ,Tables and hireachircal format.\n",
    "- General tool to manage data.\n",
    "- e.g -Microsoft Access,dBase.\n",
    "\n",
    "**2.What is RDBMS?**\n",
    "\n",
    "- A RDBMS is type of DBMS--To store data in tables(row and columns) and user relations(relationship) between them.\n",
    "- use SQL (Structure Query Language) for queries.\n",
    "- Support :Constraint --> primary key,foreign key,Unique for data integrity.\n",
    "- RDMS :DBMS with tables and relationships.\n",
    "- e.g -MySQL ,Oracle.\n",
    "\n",
    "**3.What is database?**\n",
    "\n",
    "- A database is organized collection of data that stored.So it can be easily access, manged and updated.\n",
    "\n",
    "Features::\n",
    "- 1.Store -> large amount of data.\n",
    "- 2.Data can be retrieved quickly (search,filters) using queries.\n",
    "- 3.support ->updating,deleting and inserting data.\n",
    "- 4.Maintain -Consistency and security.\n",
    "- 5.Can be used by multiple user at same time.\n",
    "\n",
    "Types ::\n",
    "- 1.RDBMS -Store in tables(MYSQL,Oracle,PostgreSQL.\n",
    "- 2.NoSQL DB -Store in unstructured/semi-structure(MongoDB).\n",
    "- 3.Cloud DB -Manged online.(AWS, Google cloud SQL).\n",
    "\n",
    "**4.what is SQL?**\n",
    "\n",
    "- SQL stands for Structure Query language.\n",
    "- SQL is used to communicate to database to perform different kind of operation.\n",
    "- We can send SQL commands using client s/w.\n",
    "\n",
    " two types client:\n",
    "- 1.Graphical mode(GUI)\n",
    "- 2.CLI(Command line interface)\n",
    "\n",
    "e.g ::\n",
    "Oracle DB ::\n",
    " - SQLDeveloper(GUI).\n",
    " - SQL Plus(CLI).\n",
    "\n",
    "MYSQL DB ::\n",
    " - MYSQLWorkbech(GUI)\n",
    " - MYSQL CommandLinetool(CLI)\n",
    "\n",
    "**5.What is client?**\n",
    "- The client is program, tool or application that send request(SQL queries) to the DB.\n",
    "- client not store the data --only communicates with server.\n",
    "\n",
    "**6.what is server in SQL**\n",
    "- The server is database system( like MYSQL server,PostgreSQL server,Oracle DB).\n",
    "- It stores the data,process--Queries and returns results to the client.\n",
    "- e.g ::\n",
    "- Client -->send SQL Query-->select * from users\n",
    "- Server -->recevies-->process-->fetch data from storage.\n",
    "- Server -->send result back to client.\n",
    "\n"
   ]
  },
  {
   "cell_type": "markdown",
   "id": "8e431da1-95b2-477e-a99b-bbfd2646c655",
   "metadata": {},
   "source": [
    "**SQL Language**\n",
    "\n",
    " 1.DDL(Data Defination language)\n",
    " - CREATE ,ALTER,DROP,TRUNCATE,RENAME\n",
    "\n",
    " 2.DML(Data Manipulation language)\n",
    " - INSERT,UPADTE,DELETE\n",
    "\n",
    "3.DRL/DQL(Data Retrieval Language/Data Query Language)\n",
    "  - SELECT\n",
    "    \n",
    " 4.TCL(Transaction Control Language)\n",
    "  - COMMIT,ROLLBACK,SAVE POINT\n",
    "    \n",
    " 5.DCL(Data Control Language)\n",
    "  - GRANT,REVOKE"
   ]
  },
  {
   "cell_type": "markdown",
   "id": "69c04472-3080-4614-89ee-4560dddc6453",
   "metadata": {},
   "source": [
    "**Create Database/Schema**"
   ]
  },
  {
   "cell_type": "markdown",
   "id": "5da96ab1-c3a1-4a14-959b-3b1007efe7cd",
   "metadata": {},
   "source": [
    "CREATE DATABASE <<DATABASE NAME>>;\n",
    " -creating database\n",
    "\n",
    "DROP DATABASE <<DATABASE NAME>>;\n",
    " -deleting database"
   ]
  },
  {
   "cell_type": "markdown",
   "id": "2969347b-d04e-433b-9d3a-cd05a66d4f65",
   "metadata": {},
   "source": [
    "**CREATE/INSERT IN tables**"
   ]
  },
  {
   "cell_type": "markdown",
   "id": "4b2dee9d-8167-4a8b-99cb-c7fe042e9a86",
   "metadata": {},
   "source": [
    "-Use database first\n",
    " USE <<DATABASE NAME>>;  //ONLY ONCE NEED TO USE THIS COMMANDS.\n",
    "    \n",
    "CREATE TABLE <<TABLE NAME>>\n",
    "    (COLUMN 1 DATATYPE,COL2 DATATYPE);\n",
    "-e.g :: CREATE TABLE STUDNET(SNO INT(10) ,SNAME VARCHAR(50),MARKS INT(30);   //CREATE STUDNENT TABLE\n",
    "\n",
    "DESCIBE STUDENT; //SHOW ALL ROW AND COLUMN OF TABLE.\n",
    "\n",
    "//APPROCH :1\n",
    "INSERT INTO <<TABLE NAME>>\n",
    "    VALUES (101,'ANNU',80);   //INSERT FIRST STUDENT IN TABLE.\n",
    "\n",
    "//APPROCH :2\n",
    "INSERT INTO <<TABLE NAME>>(SNO,SNAME,MARKS)\n",
    "        VALUES (101,'ANNU',80);  \n",
    "\n",
    "//APPROCH:3\n",
    "INSERT INTO <<TABLE NAME>>\n",
    "        VALUES (101,'ANNU',null);\n",
    "                                                               "
   ]
  },
  {
   "cell_type": "markdown",
   "id": "fe1ee72d-1e9e-492f-8a04-8574c31d9acc",
   "metadata": {},
   "source": [
    "**SELECT command in tables**"
   ]
  },
  {
   "cell_type": "markdown",
   "id": "421eec83-36f2-4cce-a3cb-c2ba02fcb000",
   "metadata": {},
   "source": [
    "select and retrive data from table.\n",
    "\n",
    "SELECT * FROM <<TABLE NAME>>;\n",
    "\n",
    "-ALIAS \n",
    "    INSTEAD FULL NAME OF COLUMN NAME USE ALIAS.\n",
    "-SELECT SNO NO,SNAME NME,MARKS MK FROM <<TABLE NAME>>;\n"
   ]
  },
  {
   "cell_type": "markdown",
   "id": "85564d1c-d5db-4761-96b7-e55620ad6c2a",
   "metadata": {},
   "source": [
    "**SQL NUMRIC DATA TYPES***\n",
    "- TINYINT \n",
    "- SMALLINT\n",
    "- MEDIUMINT\n",
    "- INT\n",
    "- BIGINT\n",
    "- FLOAT\n",
    "- DOUBLE(,)\n",
    "- DECIMAL(,)\n"
   ]
  },
  {
   "cell_type": "markdown",
   "id": "77ed06f5-cc0e-4ad8-8d47-13512016d312",
   "metadata": {},
   "source": [
    "**SQL TEXT DATA TYPES***\n",
    "- CHAR()\n",
    "- VARCHAR()\n",
    "- BLOB\n",
    "- MEDIUMTEXT\n",
    "- MEDIUMBLOB\n",
    "- LONGTEXT\n",
    "- LONGBLOB"
   ]
  },
  {
   "cell_type": "markdown",
   "id": "56371fe0-160e-4d24-81b9-904362915fa8",
   "metadata": {},
   "source": [
    "**SQL DATE AND TIME***\n",
    "- DATE -------- YYYY-MM-DD\n",
    "- DATETIME -------- YYYY-MM-DD HH:MM:SS\n",
    "- TIMESTAMP ---------- YYYYMMDDHHMMSS\n",
    "- TIME ------------HH:MM:SS"
   ]
  },
  {
   "cell_type": "markdown",
   "id": "4e9e90c7-5ad7-4850-8696-81582f7eb9b2",
   "metadata": {},
   "source": [
    "**WHERE (Filteing records based on conditions )**"
   ]
  },
  {
   "cell_type": "raw",
   "id": "42c2011c-f920-4bf4-aaf4-05370900d460",
   "metadata": {},
   "source": []
  }
 ],
 "metadata": {
  "kernelspec": {
   "display_name": "Java",
   "language": "java",
   "name": "java"
  },
  "language_info": {
   "codemirror_mode": "java",
   "file_extension": ".jshell",
   "mimetype": "text/x-java-source",
   "name": "Java",
   "pygments_lexer": "java",
   "version": "24.0.2+12-54"
  }
 },
 "nbformat": 4,
 "nbformat_minor": 5
}
