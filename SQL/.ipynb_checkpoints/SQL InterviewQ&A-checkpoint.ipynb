{
 "cells": [
  {
   "cell_type": "markdown",
   "id": "f7acfa60-0e14-46f3-b542-7a0726867527",
   "metadata": {},
   "source": [
    "## SQL Interview question"
   ]
  },
  {
   "cell_type": "markdown",
   "id": "32cbacf1-3041-4e5c-b895-8124f1b1555a",
   "metadata": {},
   "source": [
    "**1.What is DBMS?**\n",
    "\n",
    "- A DBMS is s/w that helps to store,organize and mange data.\n",
    "- Data store-> Files ,Tables and hireachircal format.\n",
    "- General tool to manage data.\n",
    "- e.g -Microsoft Access,dBase.\n",
    "\n",
    "**2.What is RDBMS?**\n",
    "\n",
    "- A RDBMS is type of DBMS--To store data in tables(row and columns) and user relations(relationship) between them.\n",
    "- use SQL (Structure Query Language) for queries.\n",
    "- Support :Constraint --> primary key,foreign key,Unique for data integrity.\n",
    "- RDMS :DBMS with tables and relationships.\n",
    "- e.g -MySQL ,Oracle.\n",
    "\n",
    "**3.What is database?**\n",
    "\n",
    "- A database is organized collection of data that stored.So it can be easily access, manged and updated.\n",
    "\n",
    "Features::\n",
    "- 1.Store -> large amount of data.\n",
    "- 2.Data can be retrieved quickly (search,filters) using queries.\n",
    "- 3.support ->updating,deleting and inserting data.\n",
    "- 4.Maintain -Consistency and security.\n",
    "- 5.Can be used by multiple user at same time.\n",
    "\n",
    "Types ::\n",
    "- 1.RDBMS -Store in tables(MYSQL,Oracle,PostgreSQL.\n",
    "- 2.NoSQL DB -Store in unstructured/semi-structure(MongoDB).\n",
    "- 3.Cloud DB -Manged online.(AWS, Google cloud SQL).\n",
    "\n",
    "**4.what is SQL?**\n",
    "\n",
    "- SQL stands for Structure Query language.\n",
    "- SQL is used to communicate to database to perform different kind of operation.\n",
    "- We can send SQL commands using client s/w.\n",
    "\n",
    " two types client:\n",
    "- 1.Graphical mode(GUI)\n",
    "- 2.CLI(Command line interface)\n",
    "\n",
    "e.g ::\n",
    "Oracle DB ::\n",
    " - SQLDeveloper(GUI).\n",
    " - SQL Plus(CLI).\n",
    "\n",
    "MYSQL DB ::\n",
    " - MYSQLWorkbech(GUI)\n",
    " - MYSQL CommandLinetool(CLI)\n",
    "\n",
    "**5.What is client?**\n",
    "- The client is program, tool or application that send request(SQL queries) to the DB.\n",
    "- client not store the data --only communicates with server.\n",
    "\n",
    "**6.what is server in SQL**\n",
    "- The server is database system( like MYSQL server,PostgreSQL server,Oracle DB).\n",
    "- It stores the data,process--Queries and returns results to the client.\n",
    "- e.g ::\n",
    "- Client -->send SQL Query-->select * from users\n",
    "- Server -->recevies-->process-->fetch data from storage.\n",
    "- Server -->send result back to client.\n",
    "\n"
   ]
  },
  {
   "cell_type": "markdown",
   "id": "3084055e-524e-4ecf-a325-58bc5b47fa5f",
   "metadata": {},
   "source": [
    "**SQL Language**"
   ]
  },
  {
   "cell_type": "code",
   "execution_count": null,
   "id": "2f5b06f1-526a-46a8-bfc1-f31a50e5105d",
   "metadata": {},
   "outputs": [],
   "source": [
    "\n",
    " 1.DDL(Data Defination language)\n",
    " - CREATE ,ALTER,DROP,TRUNCATE,RENAME\n",
    "\n",
    " 2.DML(Data Manipulation language)\n",
    " - INSERT,UPADTE,DELETE\n",
    "\n",
    "3.DRL/DQL(Data Retrieval Language/Data Query Language)\n",
    "  - SELECT\n",
    "    \n",
    " 4.TCL(Transaction Control Language)\n",
    "  - COMMIT,ROLLBACK,SAVE POINT\n",
    "    \n",
    " 5.DCL(Data Control Language)\n",
    "  - GRANT,REVOKE"
   ]
  },
  {
   "cell_type": "markdown",
   "id": "69c04472-3080-4614-89ee-4560dddc6453",
   "metadata": {},
   "source": [
    "**Create Database/Schema**"
   ]
  },
  {
   "cell_type": "code",
   "execution_count": null,
   "id": "ef9b4510-f01f-401d-92ed-424ebb8782c9",
   "metadata": {},
   "outputs": [],
   "source": [
    "CREATE DATABASE <<DATABASE NAME>>;\n",
    " -creating database\n",
    "\n",
    "DROP DATABASE <<DATABASE NAME>>;\n",
    " -deleting database"
   ]
  },
  {
   "cell_type": "markdown",
   "id": "2969347b-d04e-433b-9d3a-cd05a66d4f65",
   "metadata": {},
   "source": [
    "**CREATE/INSERT IN tables**"
   ]
  },
  {
   "cell_type": "code",
   "execution_count": null,
   "id": "e5821600-ac8f-49fc-b361-5752ffaf7850",
   "metadata": {},
   "outputs": [],
   "source": [
    "\n",
    "-Use database first\n",
    " USE <<DATABASE NAME>>;  //ONLY ONCE NEED TO USE THIS COMMANDS.\n",
    "    \n",
    "CREATE TABLE <<TABLE NAME>>\n",
    "    (COLUMN 1 DATATYPE,COL2 DATATYPE);\n",
    "-e.g :: CREATE TABLE STUDENT(SNO INT(10) ,SNAME VARCHAR(50),MARKS INT(30);   //CREATE STUDENT TABLE\n",
    "\n",
    "DESCIBE STUDENT; //SHOW ALL ROW AND COLUMN OF TABLE.\n",
    "\n",
    "//APPROCH :1\n",
    "INSERT INTO <<TABLE NAME>>\n",
    "    VALUES (101,'ANNU',80);   //INSERT FIRST STUDENT IN TABLE.\n",
    "\n",
    "//APPROCH :2\n",
    "INSERT INTO <<TABLE NAME>>(SNO,SNAME,MARKS)\n",
    "        VALUES (101,'ANNU',80);  \n",
    "\n",
    "//APPROCH:3\n",
    "INSERT INTO <<TABLE NAME>>\n",
    "        VALUES (101,'ANNU',null);\n",
    "                                                              "
   ]
  },
  {
   "cell_type": "markdown",
   "id": "fe1ee72d-1e9e-492f-8a04-8574c31d9acc",
   "metadata": {},
   "source": [
    "**SELECT command in tables**"
   ]
  },
  {
   "cell_type": "code",
   "execution_count": null,
   "id": "71f009ce-c395-426f-944f-0a65385b81b5",
   "metadata": {},
   "outputs": [],
   "source": [
    "select and retrive data from table.\n",
    "\n",
    "SELECT * FROM <<TABLE NAME>>;\n",
    "\n",
    "-ALIAS \n",
    "    INSTEAD FULL NAME OF COLUMN NAME USE ALIAS.\n",
    "-SELECT SNO NO,SNAME NME,MARKS MK FROM <<TABLE NAME>>;\n"
   ]
  },
  {
   "cell_type": "code",
   "execution_count": null,
   "id": "e4396cb9-5425-467c-a0a4-8d39b8b85f33",
   "metadata": {},
   "outputs": [],
   "source": [
    "**SQL Numeric DATA TYPES***\n",
    "INT / INTEGER\t\n",
    "SMALLINT\t\n",
    "BIGINT\n",
    "DECIMAL(p,s) (DECIMAL(10,2))\tDepends on precision\n",
    "BIT\t\n",
    "FLOAT(n)"
   ]
  },
  {
   "cell_type": "code",
   "execution_count": null,
   "id": "ac1f6dc0-5531-4218-af36-b7175ee8e3ef",
   "metadata": {},
   "outputs": [],
   "source": [
    "**SQL TEXT DATA TYPES***\n",
    "- CHAR()\n",
    "- VARCHAR()\n",
    "- BLOB\n",
    "- MEDIUMTEXT\n",
    "- MEDIUMBLOB\n",
    "- LONGTEXT\n",
    "- LONGBLOB"
   ]
  },
  {
   "cell_type": "markdown",
   "id": "56371fe0-160e-4d24-81b9-904362915fa8",
   "metadata": {},
   "source": [
    "**SQL DATE AND TIME***\n",
    "- DATE -------- YYYY-MM-DD\n",
    "- DATETIME -------- YYYY-MM-DD HH:MM:SS\n",
    "- TIMESTAMP ---------- YYYYMMDDHHMMSS\n",
    "- TIME ------------HH:MM:SS"
   ]
  },
  {
   "cell_type": "markdown",
   "id": "4e9e90c7-5ad7-4850-8696-81582f7eb9b2",
   "metadata": {},
   "source": [
    "**WHERE CLAUSE(Filteing records based on conditions )**\n",
    "\n",
    "- where clause is used to filter rows in table based on condition.\n",
    "- without WHERE --query affect/returns all rows.\n",
    "- with where -- only rows matching the condition are returned or updated."
   ]
  },
  {
   "cell_type": "code",
   "execution_count": null,
   "id": "2abd9be6-dfe2-404d-be92-37d8f8f7f4ba",
   "metadata": {},
   "outputs": [],
   "source": [
    "-SELECT * FROM STUDENT WHERE MARKS>90;"
   ]
  },
  {
   "cell_type": "markdown",
   "id": "b5efcec1-9ccf-4806-9487-ea3dc94efb61",
   "metadata": {},
   "source": [
    "**DISTINCT (Filting records based on conditions )**\n",
    "\n",
    "- DISINCT keyword is used in SQL remove duplicates values from result set.\n",
    "- It ensure that only unique values are returned."
   ]
  },
  {
   "cell_type": "code",
   "execution_count": null,
   "id": "d245157b-1e06-4162-aebf-ebb5f317edcf",
   "metadata": {},
   "outputs": [],
   "source": [
    "- select DISITINCT MARKS from student"
   ]
  },
  {
   "cell_type": "markdown",
   "id": "51f74a04-10fd-491a-9d17-d7e3ef69ea04",
   "metadata": {},
   "source": [
    "**Logical operates(AND ,OR, NOT)**\n",
    "- Using inside the WHERE clause to combine conditions."
   ]
  },
  {
   "cell_type": "code",
   "execution_count": null,
   "id": "88124c0f-afd9-459e-9635-0e8b1f0f5299",
   "metadata": {},
   "outputs": [],
   "source": [
    "-  1.AND\n",
    "-  Return rows --Only if all conditions are true.\n",
    "   e.g:\n",
    "   \n",
    "-  select * from student where marks>90 AND name='ANNU';\n",
    "\n",
    "-  2.OR\n",
    "-  Return rows --Only if one conditions are true.\n",
    "  e.g:\n",
    "\n",
    "-  select * from student where marks>80 OR name='ANNU';\n",
    "\n",
    "- 3.NOT\n",
    "- Reverse the condition(return row where the condition is FALSE)\n",
    "  e.g:\n",
    "  \n",
    "-  select * from student where NOT name='ANNU';"
   ]
  },
  {
   "cell_type": "markdown",
   "id": "a6771f7b-0920-4382-bdbf-1064ccb56444",
   "metadata": {},
   "source": [
    "**What is BETWEEN?**\n",
    "\n",
    "- the BETWEEN operator is used SQL to filters result with in a given range.\n",
    "- Works with numbers, dates, and even text.\n",
    "- Works well with AND, OR, and NOT.\n",
    "\n",
    "**What is NOT BETWEEN?**\n",
    "\n",
    "- The NOT BETWEEN operator is used to filter values outside a given range.\n",
    "- NOT BETWEEN → outside the range (exclusive of boundaries)."
   ]
  },
  {
   "cell_type": "code",
   "execution_count": null,
   "id": "865bbf56-3c9a-45cc-a688-3000a1b3be8b",
   "metadata": {},
   "outputs": [],
   "source": [
    "e.g -\n",
    "SELECT first_name, salary\n",
    "FROM employees\n",
    "WHERE salary BETWEEN 40000 AND 60000;\n",
    "----\n",
    "WHERE salary NOT BETWEEN 40000 AND 60000;"
   ]
  },
  {
   "cell_type": "markdown",
   "id": "a974f3bf-2d83-41e3-bee7-ed219fdbc965",
   "metadata": {},
   "source": [
    "**What is IN?**\n",
    "\n",
    "- used to check if value matchs any value in a list.\n",
    "- it's shorter way to writing multiple OR conditions.\n",
    "\n",
    "**What is NOT IN?**\n",
    "- used to excludes specific values in a list."
   ]
  },
  {
   "cell_type": "code",
   "execution_count": null,
   "id": "4fd912ab-0203-45d1-ae07-4a152818693c",
   "metadata": {},
   "outputs": [],
   "source": [
    "e.g -\n",
    "SELECT first_name, dept_id\n",
    "FROM employees\n",
    "WHERE dept_id IN (1, 3, 5);   //with values ,string and subqurey.\n",
    "WHERE job_id IN ('HR', 'IT', 'FIN');\n",
    "WHERE dept_id IN (\n",
    "    SELECT dept_id FROM departments WHERE location_id = 1001\n",
    ");\n"
   ]
  },
  {
   "cell_type": "markdown",
   "id": "029d7796-1fa0-4179-8123-ea8d7e4b0d75",
   "metadata": {},
   "source": [
    "**What is LIKE?**\n",
    "\n",
    "- LIKE operator is used in SQL to search for pattern in column's value.\n",
    "- works with text (VARCHAR,CHAR).\n",
    "- Often used in the WHERE clause.\n",
    "\n",
    "It uses wildcards ::\n",
    "- % :matches zero or more characters.\n",
    "- _ :matches exactly one character.\n",
    "    "
   ]
  },
  {
   "cell_type": "code",
   "execution_count": null,
   "id": "a7f6fb5b-7bba-4d6e-a69d-7a300fcf7395",
   "metadata": {},
   "outputs": [],
   "source": [
    "e.g ::\n",
    "SELECT first_name\n",
    "FROM employees\n",
    "WHERE first_name LIKE 'A%';  //start with A\n",
    "WHERE first_name LIKE '%A'; //Ends with A\n",
    "WHERE first_name LIKE '%A%'; //Contains A\n",
    "WHERE first_name LIKE 'e_';  //after only one character\n",
    "\n",
    "WHERE first_name NOT LIKE '%A';\n"
   ]
  },
  {
   "cell_type": "markdown",
   "id": "623a7044-302e-454a-9266-44270d021808",
   "metadata": {},
   "source": [
    "**DDL Commands**\n",
    "\n",
    "**1.DDL(Data Definition Language)**\n",
    "\n",
    " **CREATE**\n",
    " \n",
    "The CREATE statement is used to create databases, tables, views, indexes, or users in SQL.\n",
    "\n",
    "CREATE DATABASE → make a new database\n",
    "\n",
    "CREATE TABLE → make a new table\n",
    "\n",
    "CREATE VIEW → make a virtual table from a query\n",
    "\n",
    "CREATE INDEX → speed up searches\n",
    "\n"
   ]
  },
  {
   "cell_type": "code",
   "execution_count": null,
   "id": "d01cec50-3bf2-4c85-a072-8223b1c49d64",
   "metadata": {},
   "outputs": [],
   "source": [
    "e.g-\n",
    "CREATE TABLE STUDENT (\n",
    "    emp_id INT PRIMARY KEY,\n",
    "    first_name VARCHAR(50),\n",
    "    last_name VARCHAR(50),   \n",
    ");\n"
   ]
  },
  {
   "cell_type": "markdown",
   "id": "b35f160a-4ba4-4c9a-8221-8c0aa7019ad2",
   "metadata": {},
   "source": [
    "\n",
    " **ALTER**\n",
    " \n",
    "- Adding a new column\n",
    "- dropping a existing column.\n",
    "- modifying the existing column (increase/decrease size of column,change data type of column).\n",
    "- renaming a column.\n",
    "- Add or drop constraints\n"
   ]
  },
  {
   "cell_type": "code",
   "execution_count": null,
   "id": "47b23372-89a0-431f-a8f9-01d75c898391",
   "metadata": {},
   "outputs": [],
   "source": [
    "e.g -\n",
    "    ALTER TABLE STUDENT\n",
    "    ADD GRADE VARCHAR (20);  //adding column"
   ]
  },
  {
   "cell_type": "code",
   "execution_count": null,
   "id": "de60dcb2-bfd0-41ba-bb90-d11aa3d18985",
   "metadata": {},
   "outputs": [],
   "source": [
    "e.g -\n",
    "    ALTER TABLE STUDENT\n",
    "    DROP GRADE VARCHAR (20); //droping column"
   ]
  },
  {
   "cell_type": "code",
   "execution_count": null,
   "id": "da255ebb-2c1d-456a-96c8-13fb37850e68",
   "metadata": {},
   "outputs": [],
   "source": [
    "e.g -\n",
    "    ALTER TABLE STUDENT\n",
    "    MODIFY COLUMN SNAME VARCHAR (20)); //MODIFY column"
   ]
  },
  {
   "cell_type": "code",
   "execution_count": null,
   "id": "b2ee317b-f408-44a6-bc12-d5da941ef86c",
   "metadata": {},
   "outputs": [],
   "source": [
    "e.g -\n",
    "    ALTER TABLE STUDENT\n",
    "    RENAME COLUMN SNAME TO STUDENT_NAME; //Rename column"
   ]
  },
  {
   "cell_type": "markdown",
   "id": "2e85e4bd-cf24-4e5c-8dd2-2a9afd9c00d7",
   "metadata": {},
   "source": [
    "\n",
    " **DROP**\n",
    " \n",
    "- used to permanently delete a database,table ,view or index.\n",
    "- once dropped data are gone.\n",
    "- DROP removes the entire table structure + data."
   ]
  },
  {
   "cell_type": "code",
   "execution_count": null,
   "id": "3d236feb-0c7f-4318-a32f-2b448f9a25e1",
   "metadata": {},
   "outputs": [],
   "source": [
    "e.g :\n",
    "DROP TABLE employees;\n",
    "DROP DATABASE HR_DB;\n",
    "DROP VIEW high_salary_emps;"
   ]
  },
  {
   "cell_type": "markdown",
   "id": "22f812ed-3aeb-4825-abe3-654e51e4b752",
   "metadata": {},
   "source": [
    "\n",
    " **DELETE**\n",
    " \n",
    "- used to remove rows(data) from table.\n",
    "- we can delete all rows or only specific rows using a WHERE clause.\n",
    "-                "
   ]
  },
  {
   "cell_type": "code",
   "execution_count": null,
   "id": "d406b804-545a-41a5-a9c8-d0a0347161da",
   "metadata": {},
   "outputs": [],
   "source": [
    "e.g-\n",
    "DELETE FROM employees WHERE dept_id = 3;\n",
    "DELETE FROM employees;\n",
    "\n",
    "ROLLBACK;"
   ]
  },
  {
   "cell_type": "code",
   "execution_count": null,
   "id": "0c87cfa9-67e0-46b1-9962-bbbd45a39bd8",
   "metadata": {},
   "outputs": [],
   "source": [
    "Difference: \n",
    "DELETE vs TRUNCATE vs DROP\n",
    "Command\t    Removes\t                      Keeps Table Structure\t   Rollback Possible\n",
    "DELETE\t   Specific rows (with WHERE)   \t✅ Yes\t                  ✅ Yes\n",
    "TRUNCATE\tAll rows (faster)            \t✅ Yes                    ❌ No (depends on DB)\n",
    "DROP\t     Whole table (structure + data)\t❌ No                     ❌ No"
   ]
  },
  {
   "cell_type": "markdown",
   "id": "71ff5999-2863-4468-8b51-fd5ab93a7fc1",
   "metadata": {},
   "source": [
    "\n",
    " **TRUNCATE**\n",
    " \n",
    "- used to remove permenatly rows(data) from table."
   ]
  },
  {
   "cell_type": "code",
   "execution_count": null,
   "id": "250e6ac5-e8e4-40f2-9d48-af9ca3fd8b0a",
   "metadata": {},
   "outputs": [],
   "source": [
    "e.g-\n",
    "TRUNCATE TABLE employees;"
   ]
  },
  {
   "cell_type": "markdown",
   "id": "79a555f6-5411-4088-bbdd-2175864e803e",
   "metadata": {},
   "source": [
    "\n",
    " **RENAME**\n",
    " \n",
    "- used to change the name of Table or Column(depending on db system user is using).\n",
    "- RENAME support in Oracle,MySQL,PostgreSQL,SQL server"
   ]
  },
  {
   "cell_type": "code",
   "execution_count": null,
   "id": "3b007385-dbc5-4e92-ad74-6c735aaa8372",
   "metadata": {},
   "outputs": [],
   "source": [
    "e.g -\n",
    "alter table student\n",
    "rename column SNAME To student_name;\n",
    "\n",
    "alter table student\n",
    "rename To students;"
   ]
  },
  {
   "cell_type": "markdown",
   "id": "c641167e-ce71-421a-b681-646919165751",
   "metadata": {},
   "source": [
    " **Built-in Function in SQL**\n",
    "\n",
    "Mysql function\n",
    "- 1.String function -Operate on string data types.\n",
    "- 2.Numberic function -Operate on Numberic data types.\n",
    "- 3.Date function -Operate on Date data types.\n",
    "- 4.Aggeragate function -Operate on all of the data types and produce summarized result sets."
   ]
  },
  {
   "cell_type": "code",
   "execution_count": null,
   "id": "22c5fad3-094d-4b0e-aad5-6924995486e7",
   "metadata": {},
   "outputs": [],
   "source": [
    " **String function**\n",
    " - 1.UPPER() :: Convert to Uppercase letter.\n",
    " - 2.LOWER() :: Convert to Lowercase letter.\n",
    "     e.g-\n",
    "    select UPPER('smith');\n",
    "    select UPPER(FirstName) from students;\n",
    "    select LOWER('RADHA');\n",
    "    select LOWER(FirstName) from students;\n",
    "\n",
    "\n",
    " - 3.LENGTH()  ::return length of string \n",
    "    select Length('RADHA');\n",
    "\n",
    " - 4.TRIM() ::Remove the specified characters from both sides.\n",
    "    select TRIM('   zzebra   ');\n",
    "    select TRIM('z' from 'zebra');\n",
    "\n",
    " - 5.INSRT() :: Return position of character within a string.\n",
    "    Select instr('Nike' ,'e');\n",
    "\n",
    " - 6.SUBSTR()/SUBSTRING() :: return substring of the string.\n",
    "    select substr('ORACLE',2,3);\n",
    "    select substring('ORACLE',2,4);\n",
    "\n",
    "  - 7.CONCAT() ::to join two string.\n",
    "    select concat(name,gender),* as namegender from student;\n",
    "\n",
    "\n"
   ]
  },
  {
   "cell_type": "code",
   "execution_count": null,
   "id": "146f5ab4-d8f1-4ca2-8d88-9d70ba633c15",
   "metadata": {},
   "outputs": [],
   "source": [
    " **Numeric function**\n",
    "- 1. select abs(-40) :: Absolute value of number.return +ve value.\n",
    "- 2. select SQRT(25) :: square root of number.\n",
    "- 3. Select MOD(10,3)\n",
    "- 4. select POW(10,3) -power of number;\n",
    "- 5. select truncate(40.1234,2) ::Truncating number --\n",
    "- 6. select truncate(4768,-2)\n",
    "- 7. select truncate(47687898998,-5)\n",
    "- 8. SELECT GREATEST(100,20,1,3)\n",
    "- 9. SELECT LEAST(100,20,1,3)"
   ]
  },
  {
   "cell_type": "code",
   "execution_count": null,
   "id": "4a88d0e2-94fd-4a87-a130-e1e9a4ab6b7e",
   "metadata": {},
   "outputs": [],
   "source": [
    " **Date function**\n",
    " \n",
    "select curdate();  :: return current date\n",
    "select current_date();\n",
    "\n",
    "select current_time(); :: return curent time.\n",
    "select curtime();\n",
    "\n",
    "select now(); :: return current date + time\n",
    "select sysdate(); \n",
    "\n",
    "select month(\"2019-05-19\") :: return month\n",
    "select day(\"2019-05-19\") :: return day\n",
    "select year(\"2019-05-19\") :: return year\n",
    "select monthname(\"2019-05-19\") :: return monthName\n"
   ]
  },
  {
   "cell_type": "code",
   "execution_count": null,
   "id": "33b0b60b-8144-4ea5-903f-158462087c2d",
   "metadata": {},
   "outputs": [],
   "source": [
    "**Aggregate function**\n",
    "- aggregate function are all about performing calculations on multiple rows of single column of a table and returing a single value.\n",
    "\n",
    "select avg(salary) from employees\n",
    "select max(salary) from employees\n",
    "select min(salary) from employees\n",
    "select count(*) from employees\n"
   ]
  },
  {
   "cell_type": "markdown",
   "id": "959e0596-a964-43e7-a995-dfa11438e95f",
   "metadata": {},
   "source": [
    " **GROUP BY**\n",
    " - the GROUP BY  clause records into summary rows.\n",
    " - GROUP BY returns one records for each group.\n",
    " - GROUP BY is typically also involves aggregate function :: Count,MAX,MIN,SUM,AVG etc.\n",
    " - GROUP BY can group by one or more column.\n",
    " - grouping result from a table.\n",
    "     "
   ]
  },
  {
   "cell_type": "code",
   "execution_count": null,
   "id": "5f51d66c-7913-4756-9c97-b8f3cb222aaf",
   "metadata": {},
   "outputs": [],
   "source": [
    "-e.g ::\n",
    "select department,sum(salary) from employees\n",
    "group by department\n",
    "\n",
    "select department,AVG(salary) from employees\n",
    "group by department\n",
    "\n",
    "select department,MAX(salary) from employees\n",
    "group by department\n",
    "select department,MIN(salary) from employees\n",
    "group by department\n",
    "select department,count(*)from employees\n",
    "group by department\n"
   ]
  },
  {
   "cell_type": "markdown",
   "id": "68895229-2446-4c78-b560-3c6e343a0fae",
   "metadata": {},
   "source": [
    " **Having Clause**\n",
    " - Having clause is used to filter the output from group by.\n",
    "\n",
    "    where --->Group By---->Having "
   ]
  },
  {
   "cell_type": "code",
   "execution_count": null,
   "id": "9bbcf981-a6cc-4117-b388-f0e181fe2d86",
   "metadata": {},
   "outputs": [],
   "source": [
    "select department,sum(salary) from employees\n",
    "group by department\n",
    "having sum(salary)>227000.00"
   ]
  },
  {
   "cell_type": "markdown",
   "id": "12ca734c-5912-4c66-bc32-b52ac2337089",
   "metadata": {},
   "source": [
    " **ORDER BY Clause**\n",
    " - order by clause is used to arrange row in a table(Ascending or descending order).\n",
    " -  where --->Group By---->Having --->Order By"
   ]
  },
  {
   "cell_type": "code",
   "execution_count": null,
   "id": "9a5ef70c-faeb-4ab6-8fe4-54ac56fd4cfa",
   "metadata": {},
   "outputs": [],
   "source": [
    "Select (col_name)\n",
    "FROM (table_name)\n",
    "WHERE (condition)\n",
    "GROUP BY (col_name)\n",
    "HAVING (condition)\n",
    "ORDER BY (col_name)\n",
    "\n",
    "select * from employees\n",
    "order by  salary\n",
    "\n",
    "select * from employees\n",
    "order by  salary DESC"
   ]
  },
  {
   "cell_type": "markdown",
   "id": "153230d2-9929-4330-8d2b-f59765cf4ecd",
   "metadata": {},
   "source": [
    "**Set Operators**\n",
    "\n",
    "- UNION ::Remove duplicates.\n",
    "\n",
    "- -UNION ALL::include duplicates faster performance.\n",
    "\n",
    "  Limitation:::\n",
    "- the UNION operator is used to combine the result set of two or more SELECT statenment.\n",
    "- Each SELECT statement within UNION must have the same number of columns.\n",
    "- the Columns must also have similar data types.\n",
    "- the columns in each SELECT statement must also be in the same order.\n"
   ]
  },
  {
   "cell_type": "code",
   "execution_count": null,
   "id": "b53c3ede-c342-4f56-a449-39693530ef1d",
   "metadata": {},
   "outputs": [],
   "source": [
    "Select emp_id from A UNION \n",
    "    (select emp_id from B)\n",
    "\n",
    "Select emp_id from A UNION ALL\n",
    "    (select emp_id from B)"
   ]
  },
  {
   "cell_type": "markdown",
   "id": "82d39558-3ea5-42c1-a86c-a12663cd09e2",
   "metadata": {},
   "source": [
    "**SQL JOINS**\n",
    "\n",
    "- joins help retrieving data from two or more database tables.\n",
    "- the tables are mutually related using primary and foregin keys\n",
    "\n",
    "   - 1.Equal Join/Inner Join/Simple join\n",
    "   - 2.Right Join\n",
    "   - 3.Left Join\n",
    "   - 4.Full Join\n",
    "   - 5.Self Join"
   ]
  },
  {
   "cell_type": "code",
   "execution_count": null,
   "id": "c92f89df-6fdb-4fcb-a548-660122e432ad",
   "metadata": {},
   "outputs": [],
   "source": [
    "INNER JOIN ::  Returns only matching records from table1 and table2\n",
    "e.g-\n",
    "    SELECT * from A as a\n",
    "    INNER JOIN B as b on\n",
    "    a.emp_id =b.emp_id "
   ]
  },
  {
   "cell_type": "code",
   "execution_count": null,
   "id": "6c9fee07-a8c9-4979-9451-afef95bb9e7d",
   "metadata": {},
   "outputs": [],
   "source": [
    "LEFT JOIN ::  Returns unmatched records from Left table1 and matching from table2.\n",
    "matched records \n",
    "    e.g-\n",
    "    SELECT * from A as a\n",
    "    LEFT JOIN B as b on\n",
    "    a.emp_id =b.emp_id "
   ]
  },
  {
   "cell_type": "code",
   "execution_count": null,
   "id": "9fa11e34-3def-4e3d-b8bd-25d3cde61a8e",
   "metadata": {},
   "outputs": [],
   "source": [
    "RIGHT JOIN ::  Returns matching from table1 and unmatched records from RIGHT table2  \n",
    "matched records \n",
    "    e.g-\n",
    "    SELECT * from A as a\n",
    "    RIGHT JOIN B as b on\n",
    "    a.emp_id =b.emp_id "
   ]
  },
  {
   "cell_type": "code",
   "execution_count": null,
   "id": "a03a3821-46a0-4e51-8c51-a6ceb31255ea",
   "metadata": {},
   "outputs": [],
   "source": [
    "FULL JOIN :: Retrun matching records from both table1,table2 + unmatched records table1(left) +unmatched records table2(Right)\n",
    "e.g-\n",
    "e.g-\n",
    "    SELECT * from A as a\n",
    "    FULL JOIN B as b on\n",
    "    a.emp_id =b.emp_id "
   ]
  },
  {
   "cell_type": "markdown",
   "id": "314d5dba-ec54-44da-819d-7d6d2dccb1bd",
   "metadata": {},
   "source": [
    "**SQL Subqueries**"
   ]
  },
  {
   "cell_type": "code",
   "execution_count": null,
   "id": "ecf21dac-128d-46dd-a7b5-72b72adecfa0",
   "metadata": {},
   "outputs": [],
   "source": [
    "**SQL Subqueries**\n",
    "- Sub Query is a Query within a Query.\n",
    "- subQuery contain 2 parts ::\n",
    "    1. Outer Query\n",
    "    2. Inner Query\n",
    "\n",
    "- The output of inner query is become input of outer query.\n",
    "\n",
    "    Two types of sub queries ::\n",
    "    1. single row sub query <=,>=,!=\n",
    "    2.Multi row sub query  :: IN,ANY,ALL"
   ]
  },
  {
   "cell_type": "markdown",
   "id": "732a85ed-618a-42b9-b562-0bd08fadc7e5",
   "metadata": {},
   "source": [
    "**Intergrity Constraints**"
   ]
  },
  {
   "cell_type": "code",
   "execution_count": null,
   "id": "7a52ff3d-c46f-4f42-872e-c1508b2cc706",
   "metadata": {},
   "outputs": [],
   "source": [
    "**Intergrity Constraints**\n",
    " - SQL constraints are used to specify rules for data in a table.\n",
    " - Constraints can be specified when the table is created with the CREATE TABLE statement,or After the table is created with the ALTER TABLE statement.\n",
    "\n",
    " SQL Constraints ::\n",
    " - NOT NULL :: ensure that a column cannot have NULL value.\n",
    " - UNIQUE :: ensure that all values in column are different.\n",
    " - PRIMARY KEY :: A combination of NOT NULL and UNIQUE.Uniquely identifies each row in a table.\n",
    " - Foreign key -Uniquely identifies a row/record in another table.\n",
    " - CHECK :: Ensure that all values in column satisfies a specific condition.\n",
    " - DEFAULT :: Sets a default value for a column when no value is specified.\n",
    "\n",
    "    "
   ]
  },
  {
   "cell_type": "code",
   "execution_count": null,
   "id": "cb289392-12a5-46d9-9e70-8e50d08c8614",
   "metadata": {},
   "outputs": [],
   "source": [
    "**NOT NULL**\n",
    "    - This is constraint will not accpet NULL values into the column.\n",
    "    - You can apply NOT NULL on any number of columns.\n"
   ]
  },
  {
   "cell_type": "code",
   "execution_count": null,
   "id": "2865dbf1-ebd3-4dcc-bec6-d577ee3d8474",
   "metadata": {},
   "outputs": [],
   "source": [
    "**UNIQUE **\n",
    "    - This is will not accept duplicates values.\n",
    "    - This costraint can apply on both column and table level.\n",
    "    -** UNIQUE constraint column can accpet multiple NULLS.\n",
    "\n",
    "\n",
    "\n",
    "    - Column level\n",
    "        -Create table( sno int(10) UNIQUE,\n",
    "                      sname varchar(50),\n",
    "                      marks int(10));\n",
    "\n",
    "\n",
    "    - Table level\n",
    "        -Create table( sno int(10),\n",
    "                      sname varchar(50),\n",
    "                      marks int(10)\n",
    "                    UNIQUE(sno));"
   ]
  },
  {
   "cell_type": "code",
   "execution_count": null,
   "id": "dfe45a5f-653c-444f-8956-54022209d987",
   "metadata": {},
   "outputs": [],
   "source": [
    "**PRIMARY KEY **\n",
    "    - Combination of UNIQUE +NOT NULL\n",
    "    - primary key column will not allow duplicate values and also not null values.\n",
    "    - primary key constraint create column level as well as table level.\n",
    "\n",
    "    -we can create primary key on combination of two columns called composite primary key.\n",
    "    Composite key can be applied at table level.\n",
    "\n",
    "e.g-\n",
    "create table students(\n",
    "sno int (10) ,\n",
    "sanme varchar(30),\n",
    "marks int (10),\n",
    "primary key(sno)\n",
    ");"
   ]
  },
  {
   "cell_type": "code",
   "execution_count": null,
   "id": "c7110077-d98a-4779-8f0f-bea988dd88b4",
   "metadata": {},
   "outputs": [],
   "source": [
    "**Foregin KEY **\n",
    "      - a FOREIGN KEY is a key used to link two tables together.\n",
    "      - a FOREIGN KEY is field (or collection of fields) in one table that refers to the PRIMARY KEY in another table.\n",
    "      - the table containing the foregin key is called the child table,\n",
    "        and the table containing the candidate key is called the parent table.\n",
    "\n",
    "e.g -\n",
    "\n",
    "create table course(\n",
    "cno int (10) ,\n",
    "coursename varchar(30),\n",
    "price int(30),\n",
    "sno int (10),\n",
    "foreign key (sno) references students(sno)\n",
    ");\n",
    "    "
   ]
  },
  {
   "cell_type": "code",
   "execution_count": null,
   "id": "755390d1-de41-4463-85eb-08bf6c1e9fd1",
   "metadata": {},
   "outputs": [],
   "source": [
    " **IMP point ::Foregin KEY**\n",
    " 1- when you insert a record in to child table,the column will be refred in parent table.\n",
    " 2- If you try remove parent table record directly without deleting records from child table.\n",
    " 3- First,delete dependent records from child thable ,then delete record from parent table.\n",
    " \n",
    "  4- ON DELETE CASCADE::\n",
    "  - IF you delete record from Parent table directly, It will be removed and corressponding records will be also in Child table\n",
    "e.g-\n",
    "create table course(\n",
    "cno int (10) ,\n",
    "coursename varchar(30),\n",
    "price int(30),\n",
    "sno int (10),\n",
    "foreign key (sno) references students(sno) ON DELETE CASCADE\n",
    ");\n",
    "    "
   ]
  },
  {
   "cell_type": "code",
   "execution_count": null,
   "id": "6a87667a-7e97-4428-8ee8-04115b89e05e",
   "metadata": {},
   "outputs": [],
   "source": [
    "**CHECK **\n",
    " - CHECK constraint is used for allowing to user to enter specific values into column.\n",
    "\n",
    "e.g -\n",
    "create table students(\n",
    "sno int (10) ,\n",
    "sanme varchar(30),\n",
    "marks int (10) check(marks between 50 and 100),\n",
    "primary key(sno)\n",
    ");\n",
    "\n",
    "e.g -\n",
    "create table students(\n",
    "sno int (10) ,\n",
    "sanme varchar(30),\n",
    "marks int (10) ,\n",
    "city varchar(50),\n",
    "primary key(sno)\n",
    ");\n"
   ]
  },
  {
   "cell_type": "code",
   "execution_count": null,
   "id": "fa8f7516-a018-4820-a963-888752868d83",
   "metadata": {},
   "outputs": [],
   "source": [
    "**Default **\n",
    "    - The DEFAULT constraint is used to provide a default value for a column.\n",
    "    - The Default value will be added to all new records,If no other value is specified.\n",
    "\n",
    "e.g -\n",
    "create table students(\n",
    "sno int (10) ,\n",
    "sanme varchar(30),\n",
    "marks int (10),\n",
    "created_date  datetime default now(),\n",
    "primary key(sno)\n",
    ");\n",
    "\n",
    "-----\n",
    "insert into students(sno,sanme,marks)\n",
    "values\n",
    "(101,'shyam',40),\n",
    "(102,'kris',60);"
   ]
  },
  {
   "cell_type": "markdown",
   "id": "48500e15-d28e-4acb-84b5-3111e23b9ac8",
   "metadata": {},
   "source": [
    "**AUTO INCREMENT**"
   ]
  },
  {
   "cell_type": "code",
   "execution_count": null,
   "id": "7b6504f4-0d61-4379-9511-bd3991ab0d7c",
   "metadata": {},
   "outputs": [],
   "source": [
    " - Auto Increment is function that operates on numeric data types.\n",
    " - It automatically generates sequential numeric values every time that a records inserted into a table for field defined as AUTO INCREMENT.\n",
    "\n",
    "e.g-\n",
    "Create table sd"
   ]
  },
  {
   "cell_type": "markdown",
   "id": "1f8797e6-5371-443f-8b1b-c8d0a9e594d2",
   "metadata": {},
   "source": [
    "**LIMIT**"
   ]
  },
  {
   "cell_type": "code",
   "execution_count": null,
   "id": "0f82cd32-e7ef-4f12-be4b-82828cd6c4ba",
   "metadata": {},
   "outputs": [],
   "source": [
    "- Limit is used to display limited Rows from a table.\n",
    "\n",
    "e.g-\n",
    "    SELECT * from students LIMIT 10;\n",
    "range -\n",
    "    SELECT * from students LIMIT 2,7;"
   ]
  },
  {
   "cell_type": "markdown",
   "id": "33099b9c-e497-4182-b7c5-25ca8a9bd2d4",
   "metadata": {},
   "source": [
    "**VIEWS**"
   ]
  },
  {
   "cell_type": "code",
   "execution_count": null,
   "id": "eabf6f6f-45c5-48c5-884e-70305fb188f1",
   "metadata": {},
   "outputs": [],
   "source": [
    " - A views is a virtual table based on the result-set of an SQL statement.\n",
    " - A view contains rows and columns, Just like real table.\n",
    " - You can add SQL Functions,WHERE and JOIN statements to a view and present the data.\n",
    "\n",
    "     e.g- \n",
    "    Create view dept as \n",
    "    Select dept_id,dept_name from departments\n",
    "\n",
    "    drop view dept;"
   ]
  },
  {
   "cell_type": "markdown",
   "id": "c53df4b5-5dd4-4217-b5c0-4108ad7e3314",
   "metadata": {},
   "source": [
    "**INDEX**"
   ]
  },
  {
   "cell_type": "code",
   "execution_count": null,
   "id": "99a14873-a548-4797-9380-520e0b17cf65",
   "metadata": {},
   "outputs": [],
   "source": [
    "- Indexs are used to retrive data from the database very fast.\n",
    "- The Users cannot see the indexes they are just used to speed up searched/Quries.\n",
    "\n",
    "    e.g-\n",
    "    book has page of index page.\n",
    "    e.g-\n",
    "    Create index dept_index on \n",
    "    departments(dept_id);\n",
    "\n",
    "    drop index dept_index on departments"
   ]
  },
  {
   "cell_type": "markdown",
   "id": "3bdf3ef0-49a1-4cf9-9872-b22262838de8",
   "metadata": {},
   "source": [
    "**TCL COMMANDS**"
   ]
  },
  {
   "cell_type": "code",
   "execution_count": null,
   "id": "97305162-371c-478a-85a2-71d9d2dd0ce1",
   "metadata": {},
   "outputs": [],
   "source": [
    "COMMIT  ::\n",
    "    - Saves all changes made by the transaction permanently in the database."
   ]
  },
  {
   "cell_type": "code",
   "execution_count": null,
   "id": "b68c9c37-83a8-412e-99b5-4416a5ea1f4c",
   "metadata": {},
   "outputs": [],
   "source": [
    "ROLLBACK ::\n",
    "    - Undoes changes made in the current transaction (before COMMIT)."
   ]
  },
  {
   "cell_type": "code",
   "execution_count": null,
   "id": "41954184-1430-4378-8d7c-d3820a313149",
   "metadata": {},
   "outputs": [],
   "source": [
    "Why Important in QA?\n",
    "COMMIT / ROLLBACK helps test data integrity.\n",
    "Ensures you can test database transactions without corrupting test data"
   ]
  },
  {
   "cell_type": "markdown",
   "id": "75110ee4-6f95-4166-9da7-0857d99f9acc",
   "metadata": {},
   "source": [
    "**JDBC**"
   ]
  },
  {
   "cell_type": "code",
   "execution_count": null,
   "id": "341e54e5-4b63-4545-969f-27838a08da42",
   "metadata": {},
   "outputs": [],
   "source": [
    "What is JDBC?\n",
    "- JDBC (Java Database Connectivity) is a Java API that allows Java programs to connect to and interact with databases.\n",
    "- It provides a standard way to execute SQL queries (SELECT, INSERT, UPDATE, DELETE) from Java code.\n",
    "\n",
    "Why do we use JDBC in QA/Automation?\n",
    "To validate test data directly in the database after running automation scripts.\n",
    "For back-end testing (data migration, ETL, healthcare records validation).\n",
    "Helps check if data entered via UI is stored correctly in DB.\n",
    "\n",
    "IMP prequestite::\n",
    "    1.Java(JDK)\n",
    "    2.Eclipse\n",
    "    3.MySQL JDBC Driver.::https://www.mysql.com/products/connector/"
   ]
  },
  {
   "cell_type": "code",
   "execution_count": null,
   "id": "79ac93bd-472c-4fb6-87ff-619bd236edfa",
   "metadata": {},
   "outputs": [],
   "source": [
    "e.g :: Setup Connection for mysql.\n",
    "    package SQL;\n",
    "\n",
    "import java.sql.Connection;\n",
    "import java.sql.DriverManager;\n",
    "import java.sql.ResultSet;\n",
    "import java.sql.SQLException;\n",
    "import java.sql.Statement;\n",
    "\n",
    "public class sqlConnectionSetup {\n",
    "\n",
    "\tpublic static void main(String[] args) throws SQLException {\n",
    "\t\t// TODO Auto-generated method stub\n",
    "\n",
    "\t\t\n",
    "\t\t//1.Creating a connection ::\n",
    "\t\tConnection con =DriverManager.getConnection(\"jdbc:mysql://localhost:3306\", \"root\",\"!QAZxsw2\");\n",
    "\t\t\n",
    "\t\t//2.Create a Statement/Query\n",
    "\t\tStatement statement =con.createStatement();\n",
    "\t\t//my query\n",
    "\t\tString useQ= \"USE students\";  //Use database first\n",
    "\n",
    "\t\tString InsertQ= \"INSERT INTO students VALUES \";\n",
    "\t\tString SelectQ= \"SELECT * from Students\";\n",
    "\n",
    "\t\t//3.execute statement/Query\n",
    "\t\tstatement.execute(useQ);   //execute\n",
    "\t\t\n",
    "\t\t//Store data in ResultSet\n",
    "\t\tResultSet set =statement.executeQuery(SelectQ);   //executeQuery\n",
    "\t\twhile(set.next()) {\n",
    "\t\t\tint sid =set.getInt(\"sno\");\n",
    "\t\t\tString sname =set.getString(\"sanme\");\n",
    "\t\t\tint marks =set.getInt(\"marks\");\n",
    "\t\t\tString date =set.getString(\"Created_date\");\n",
    "\t\t\t\n",
    "\t\t\tSystem.out.println(sid  +\"\t\t\"+sname +\"\t\t\"+marks+ \"\t\t\"+date);\n",
    "\n",
    "\t\t}\n",
    "\t\t\n",
    "\t\t\n",
    "\t\t//4.Close connection\n",
    "\t\tcon.close();\n",
    "\t\tSystem.out.println(\"Query executed.....\");\n",
    "\t}\n",
    "\n",
    "}\n"
   ]
  },
  {
   "cell_type": "markdown",
   "id": "796f60f4-1fbd-4f5d-8306-5a0193a2e687",
   "metadata": {},
   "source": [
    "**ODBC**"
   ]
  },
  {
   "cell_type": "code",
   "execution_count": null,
   "id": "21598f94-850d-41f8-bec6-d227436ab832",
   "metadata": {},
   "outputs": [],
   "source": [
    "**IMP presquites** \n",
    " DOWNLOAD and INSTALL : https://www.mysql.com/products/connector/"
   ]
  },
  {
   "cell_type": "code",
   "execution_count": null,
   "id": "ca139479-7788-4339-abe2-48f17413676b",
   "metadata": {},
   "outputs": [],
   "source": [
    " **MySQL shell **\n",
    "How to connect to MySQL DB using mySQL Shell\n",
    "     \n",
    "MySQL  SQL > \\connect root@localhost:3306/students\n",
    "Creating a session to 'root@localhost:3306/students'\n",
    "Please provide the password for 'root@localhost:3306': ********\n",
    "Save password for 'root@localhost:3306'? [Y]es/[N]o/Ne[v]er (default No): n\n",
    "Fetching global names, object names from `students` for auto-completion... Press ^C to stop.\n",
    "Your MySQL connection id is 29\n",
    "Server version: 8.0.43 MySQL Community Server - GPL\n",
    "Default schema set to `students`.\n",
    "\n",
    " MySQL  localhost:3306 ssl  students  SQL > show databases;\n",
    "+--------------------+\n",
    "| Database           |\n",
    "+--------------------+\n",
    "| hr_db              |\n",
    "| information_schema |\n",
    "| mysql              |\n",
    "| performance_schema |\n",
    "| students           |\n",
    "| sys                |\n",
    "+--------------------+\n",
    "6 rows in set (0.0018 sec)\n",
    " MySQL  localhost:3306 ssl  students  SQL > use hr_db\n",
    "Default schema set to `hr_db`.\n",
    "Fetching global names, object names from `hr_db` for auto-completion... Press ^C to stop.\n",
    " MySQL  localhost:3306 ssl  hr_db  SQL > show tables\n",
    "                                      -> ;\n",
    "+-----------------+\n",
    "| Tables_in_hr_db |\n",
    "+-----------------+\n",
    "| departments     |\n",
    "| dept            |\n",
    "| employees       |\n",
    "| jobs            |\n",
    "| salaries        |\n",
    "| students        |\n",
    "+-----------------+\n",
    "6 rows in set (0.0027 sec)\n",
    " MySQL  localhost:3306 ssl  hr_db  SQL >"
   ]
  },
  {
   "cell_type": "code",
   "execution_count": null,
   "id": "75c3240a-40ab-4cd5-b782-55c71cb86f73",
   "metadata": {},
   "outputs": [],
   "source": [
    " **MySQL window Commnad prompt **\n",
    "How to connect to MySQL DB using window Commnad prompt\n",
    "    \n",
    "C:\\Program Files\\MySQL\\MySQL Server 8.0\\bin>mysql -u root -p\n",
    "Enter password: ********\n",
    "Welcome to the MySQL monitor.  Commands end with ; or \\g.\n",
    "Your MySQL connection id is 31\n",
    "Server version: 8.0.43 MySQL Community Server - GPL\n",
    "\n",
    "Copyright (c) 2000, 2025, Oracle and/or its affiliates.\n",
    "\n",
    "Oracle is a registered trademark of Oracle Corporation and/or its\n",
    "affiliates. Other names may be trademarks of their respective\n",
    "owners.\n",
    "\n",
    "Type 'help;' or '\\h' for help. Type '\\c' to clear the current input statement.\n",
    "\n",
    "mysql> show databases;\n",
    "+--------------------+\n",
    "| Database           |\n",
    "+--------------------+\n",
    "| hr_db              |\n",
    "| information_schema |\n",
    "| mysql              |\n",
    "| performance_schema |\n",
    "| students           |\n",
    "| sys                |\n",
    "+--------------------+\n",
    "6 rows in set (0.00 sec)\n"
   ]
  },
  {
   "cell_type": "code",
   "execution_count": null,
   "id": "1f451a82-8669-4294-8cdb-915cec06e23d",
   "metadata": {},
   "outputs": [],
   "source": []
  },
  {
   "cell_type": "code",
   "execution_count": null,
   "id": "6230d0bd-e52e-46af-a7cc-d1b3de871a44",
   "metadata": {},
   "outputs": [],
   "source": []
  }
 ],
 "metadata": {
  "kernelspec": {
   "display_name": "Java",
   "language": "java",
   "name": "java"
  },
  "language_info": {
   "codemirror_mode": "java",
   "file_extension": ".jshell",
   "mimetype": "text/x-java-source",
   "name": "Java",
   "pygments_lexer": "java",
   "version": "24.0.2+12-54"
  }
 },
 "nbformat": 4,
 "nbformat_minor": 5
}
